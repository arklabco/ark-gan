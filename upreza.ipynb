{
 "cells": [
  {
   "cell_type": "code",
   "execution_count": 58,
   "metadata": {},
   "outputs": [],
   "source": [
    "from PIL import Image\n",
    " \n",
    "def crop(image_path, coords, saved_location):\n",
    "    \"\"\"\n",
    "    @param image_path: The path to the image to edit\n",
    "    @param coords: A tuple of x/y coordinates (x1, y1, x2, y2)\n",
    "    @param saved_location: Path to save the cropped image\n",
    "    \"\"\"\n",
    "    image_obj = Image.open(image_path)\n",
    "    cropped_image = image_obj.crop(coords)\n",
    "    cropped_image.save(saved_location)\n",
    "    cropped_image.show()\n",
    " \n",
    " \n",
    "if __name__ == '__main__':\n",
    "    image = 'data/index2.jpg'\n",
    "    crop(image, (0, 512, 512, 1024), 'data/Q1.jpg')\n",
    "    crop(image, (512, 0, 1024, 512), 'data/Q2.jpg')\n",
    "    crop(image, (0, 0, 512, 512), 'data/Q3.jpg')\n",
    "    crop(image, (512, 512, 1024, 1024), 'data/Q4.jpg')\n"
   ]
  },
  {
   "cell_type": "code",
   "execution_count": 12,
   "metadata": {},
   "outputs": [],
   "source": [
    "import numpy as np\n",
    "from PIL import Image\n",
    "\n",
    "Q1 = Image.open('data/1.jpg')\n",
    "\n",
    "Q1_img = np.array(Q1)"
   ]
  },
  {
   "cell_type": "code",
   "execution_count": null,
   "metadata": {},
   "outputs": [],
   "source": [
    "from ISR.models import RDN\n",
    "\n",
    "img = Q1_img\n",
    "\n",
    "rdn = RDN(arch_params={'C':6, 'D':20, 'G':64, 'G0':64, 'x':2})\n",
    "rdn.model.load_weights('rdn-C6-D20-G64-G064-x2_ArtefactCancelling_epoch219.hdf5')\n",
    "\n",
    "Q1_img_p = rdn.predict(img) \n",
    "Image.fromarray(Q1_img_p)"
   ]
  },
  {
   "cell_type": "code",
   "execution_count": null,
   "metadata": {},
   "outputs": [],
   "source": []
  },
  {
   "cell_type": "code",
   "execution_count": null,
   "metadata": {},
   "outputs": [],
   "source": []
  }
 ],
 "metadata": {
  "kernelspec": {
   "display_name": "Python 3",
   "language": "python",
   "name": "python3"
  },
  "language_info": {
   "codemirror_mode": {
    "name": "ipython",
    "version": 3
   },
   "file_extension": ".py",
   "mimetype": "text/x-python",
   "name": "python",
   "nbconvert_exporter": "python",
   "pygments_lexer": "ipython3",
   "version": "3.7.4"
  }
 },
 "nbformat": 4,
 "nbformat_minor": 2
}
